{
 "cells": [
  {
   "cell_type": "markdown",
   "metadata": {},
   "source": [
    "# 🏘 Boston Housing Dataset 🏘"
   ]
  },
  {
   "cell_type": "code",
   "execution_count": 1,
   "metadata": {},
   "outputs": [],
   "source": [
    "#it is IMPORTING TIME!\n",
    "import math\n",
    "import pandas as pd\n",
    "import numpy as np\n",
    "import seaborn as sns\n",
    "import matplotlib.pyplot as plt\n",
    "import statsmodels.formula.api as smf\n",
    "from scipy import stats\n",
    "from sklearn import metrics\n",
    "from sklearn import preprocessing\n",
    "from sklearn.model_selection import train_test_split\n",
    "from sklearn.datasets import load_boston\n",
    "from sklearn.linear_model import LinearRegression\n",
    "from sklearn.linear_model import LogisticRegression\n",
    "from sklearn.metrics import mean_squared_error\n",
    "from sklearn.metrics import r2_score\n",
    "sns.set(rc={'figure.figsize':(11.7,8.27)}) #standardize sizing for seaborn plots"
   ]
  },
  {
   "cell_type": "markdown",
   "metadata": {},
   "source": [
    "# 📝 <span style=\"color: purple\">Load</span> the Boston data!"
   ]
  },
  {
   "cell_type": "code",
   "execution_count": 2,
   "metadata": {},
   "outputs": [
    {
     "data": {
      "text/html": [
       "<div>\n",
       "<style scoped>\n",
       "    .dataframe tbody tr th:only-of-type {\n",
       "        vertical-align: middle;\n",
       "    }\n",
       "\n",
       "    .dataframe tbody tr th {\n",
       "        vertical-align: top;\n",
       "    }\n",
       "\n",
       "    .dataframe thead th {\n",
       "        text-align: right;\n",
       "    }\n",
       "</style>\n",
       "<table border=\"1\" class=\"dataframe\">\n",
       "  <thead>\n",
       "    <tr style=\"text-align: right;\">\n",
       "      <th></th>\n",
       "      <th>CRIM</th>\n",
       "      <th>ZN</th>\n",
       "      <th>INDUS</th>\n",
       "      <th>CHAS</th>\n",
       "      <th>NOX</th>\n",
       "      <th>RM</th>\n",
       "      <th>AGE</th>\n",
       "      <th>DIS</th>\n",
       "      <th>RAD</th>\n",
       "      <th>TAX</th>\n",
       "      <th>PTRATIO</th>\n",
       "      <th>B</th>\n",
       "      <th>LSTAT</th>\n",
       "      <th>PRICE</th>\n",
       "    </tr>\n",
       "  </thead>\n",
       "  <tbody>\n",
       "    <tr>\n",
       "      <th>0</th>\n",
       "      <td>0.00632</td>\n",
       "      <td>18.0</td>\n",
       "      <td>2.31</td>\n",
       "      <td>0.0</td>\n",
       "      <td>0.538</td>\n",
       "      <td>6.575</td>\n",
       "      <td>65.2</td>\n",
       "      <td>4.0900</td>\n",
       "      <td>1.0</td>\n",
       "      <td>296.0</td>\n",
       "      <td>15.3</td>\n",
       "      <td>396.90</td>\n",
       "      <td>4.98</td>\n",
       "      <td>24.0</td>\n",
       "    </tr>\n",
       "    <tr>\n",
       "      <th>1</th>\n",
       "      <td>0.02731</td>\n",
       "      <td>0.0</td>\n",
       "      <td>7.07</td>\n",
       "      <td>0.0</td>\n",
       "      <td>0.469</td>\n",
       "      <td>6.421</td>\n",
       "      <td>78.9</td>\n",
       "      <td>4.9671</td>\n",
       "      <td>2.0</td>\n",
       "      <td>242.0</td>\n",
       "      <td>17.8</td>\n",
       "      <td>396.90</td>\n",
       "      <td>9.14</td>\n",
       "      <td>21.6</td>\n",
       "    </tr>\n",
       "    <tr>\n",
       "      <th>2</th>\n",
       "      <td>0.02729</td>\n",
       "      <td>0.0</td>\n",
       "      <td>7.07</td>\n",
       "      <td>0.0</td>\n",
       "      <td>0.469</td>\n",
       "      <td>7.185</td>\n",
       "      <td>61.1</td>\n",
       "      <td>4.9671</td>\n",
       "      <td>2.0</td>\n",
       "      <td>242.0</td>\n",
       "      <td>17.8</td>\n",
       "      <td>392.83</td>\n",
       "      <td>4.03</td>\n",
       "      <td>34.7</td>\n",
       "    </tr>\n",
       "    <tr>\n",
       "      <th>3</th>\n",
       "      <td>0.03237</td>\n",
       "      <td>0.0</td>\n",
       "      <td>2.18</td>\n",
       "      <td>0.0</td>\n",
       "      <td>0.458</td>\n",
       "      <td>6.998</td>\n",
       "      <td>45.8</td>\n",
       "      <td>6.0622</td>\n",
       "      <td>3.0</td>\n",
       "      <td>222.0</td>\n",
       "      <td>18.7</td>\n",
       "      <td>394.63</td>\n",
       "      <td>2.94</td>\n",
       "      <td>33.4</td>\n",
       "    </tr>\n",
       "    <tr>\n",
       "      <th>4</th>\n",
       "      <td>0.06905</td>\n",
       "      <td>0.0</td>\n",
       "      <td>2.18</td>\n",
       "      <td>0.0</td>\n",
       "      <td>0.458</td>\n",
       "      <td>7.147</td>\n",
       "      <td>54.2</td>\n",
       "      <td>6.0622</td>\n",
       "      <td>3.0</td>\n",
       "      <td>222.0</td>\n",
       "      <td>18.7</td>\n",
       "      <td>396.90</td>\n",
       "      <td>5.33</td>\n",
       "      <td>36.2</td>\n",
       "    </tr>\n",
       "  </tbody>\n",
       "</table>\n",
       "</div>"
      ],
      "text/plain": [
       "      CRIM    ZN  INDUS  CHAS    NOX     RM   AGE     DIS  RAD    TAX  \\\n",
       "0  0.00632  18.0   2.31   0.0  0.538  6.575  65.2  4.0900  1.0  296.0   \n",
       "1  0.02731   0.0   7.07   0.0  0.469  6.421  78.9  4.9671  2.0  242.0   \n",
       "2  0.02729   0.0   7.07   0.0  0.469  7.185  61.1  4.9671  2.0  242.0   \n",
       "3  0.03237   0.0   2.18   0.0  0.458  6.998  45.8  6.0622  3.0  222.0   \n",
       "4  0.06905   0.0   2.18   0.0  0.458  7.147  54.2  6.0622  3.0  222.0   \n",
       "\n",
       "   PTRATIO       B  LSTAT  PRICE  \n",
       "0     15.3  396.90   4.98   24.0  \n",
       "1     17.8  396.90   9.14   21.6  \n",
       "2     17.8  392.83   4.03   34.7  \n",
       "3     18.7  394.63   2.94   33.4  \n",
       "4     18.7  396.90   5.33   36.2  "
      ]
     },
     "execution_count": 2,
     "metadata": {},
     "output_type": "execute_result"
    }
   ],
   "source": [
    "boston = load_boston()\n",
    "bos = pd.DataFrame(boston.data)\n",
    "bos.columns = boston.feature_names\n",
    "bos['PRICE'] = boston.target\n",
    "\n",
    "# print(bos.head())\n",
    "bos.head()"
   ]
  },
  {
   "cell_type": "markdown",
   "metadata": {},
   "source": [
    "### Attribute Information:\n",
    "*Information taken by calling the ```.DESCR ``` property, like so:*\n",
    "```python\n",
    "print(boston.DESCR)\n",
    "```\n",
    "1. **CRIM** per capita crime rate by town\n",
    "1. **ZN** proportion of residential land zoned for lots over 25,000 sq. ft\n",
    "1. **INDUS** proportion of non-retail business acres per town\n",
    "1. **CHAS** Charles River dummy variable (= 1 if tract bounds river; 0 otherwise)\n",
    "1. **NOX** nitric oxides concentration (parts per 10 million)\n",
    "1. **RM** average number of rooms per dwelling\n",
    "1. **AGE** proportion of owner-occupied units built prior to 1940\n",
    "1. **DIS** weighted distances to five Boston employment centres\n",
    "1. **RAD** index of accessibility to radial highways\n",
    "1. **TAX** full-value property-tax rate per \\$10,000\n",
    "1. **PTRATIO** pupil-teacher ratio by town\n",
    "1. **B** 1000(Bk - 0.63)^2 where Bk is the proportion of blacks by town\n",
    "1. **LSTAT** % lower status of the population\n",
    "1. **PRICE** median value of owner-occupied homes (in \\$1000's)"
   ]
  },
  {
   "cell_type": "markdown",
   "metadata": {},
   "source": [
    "# 📊 Perform some <span style=\"color: purple\">basic exploratory data analysis</span> to get a feel for the data.\n",
    "\n",
    "### I'm curious to see the impact of <span style=\"color: purple\">NOX</span> and <span style=\"color: purple\">PTRATIO</span> on home prices. And I'm particularly partial to <span style=\"color: purple\">violin plots</span>, so let's use those to visualize."
   ]
  },
  {
   "cell_type": "code",
   "execution_count": 3,
   "metadata": {},
   "outputs": [
    {
     "name": "stderr",
     "output_type": "stream",
     "text": [
      "/Users/cherishkim/anaconda3/lib/python3.7/site-packages/scipy/stats/stats.py:1713: FutureWarning: Using a non-tuple sequence for multidimensional indexing is deprecated; use `arr[tuple(seq)]` instead of `arr[seq]`. In the future this will be interpreted as an array index, `arr[np.array(seq)]`, which will result either in an error or a different result.\n",
      "  return np.add.reduce(sorted[indexer] * weights, axis=axis) / sumval\n"
     ]
    },
    {
     "data": {
      "text/plain": [
       "<matplotlib.axes._subplots.AxesSubplot at 0x1a174031d0>"
      ]
     },
     "execution_count": 3,
     "metadata": {},
     "output_type": "execute_result"
    },
    {
     "data": {
      "image/png": "[encoded data removed]",
      "text/plain": [
       "<Figure size 432x288 with 1 Axes>"
      ]
     },
     "metadata": {
      "needs_background": "light"
     },
     "output_type": "display_data"
    }
   ],
   "source": [
    "sns.violinplot(x='NOX', y='PRICE', data=bos)"
   ]
  },
  {
   "cell_type": "code",
   "execution_count": 4,
   "metadata": {},
   "outputs": [
    {
     "data": {
      "text/plain": [
       "<matplotlib.axes._subplots.AxesSubplot at 0x1a17a23d68>"
      ]
     },
     "execution_count": 4,
     "metadata": {},
     "output_type": "execute_result"
    },
    {
     "data": {
      "image/png": "[encoded data removed]",
      "text/plain": [
       "<Figure size 432x288 with 1 Axes>"
      ]
     },
     "metadata": {
      "needs_background": "light"
     },
     "output_type": "display_data"
    }
   ],
   "source": [
    "sns.violinplot(x='PTRATIO', y='PRICE', data=bos)"
   ]
  },
  {
   "cell_type": "markdown",
   "metadata": {},
   "source": [
    "### Higher concentrations of nitric oxide correspond to larger variances in house prices; ditto lower pupil-teacher ratios.\n",
    "\n",
    "### Let's continue on with linear regression!"
   ]
  },
  {
   "cell_type": "markdown",
   "metadata": {},
   "source": [
    "# 🔥 Create a <span style=\"color:red\">correlation heatmap</span> to check to see how highly correlated our predictor variables (features) are.\n",
    "### <span style=\"color:blue\">REMEMBER:</span> highly correlated predictors = BAD 😱"
   ]
  },
  {
   "cell_type": "code",
   "execution_count": 5,
   "metadata": {},
   "outputs": [
    {
     "data": {
      "text/plain": [
       "[Text(0.5, 0, 'CRIM'),\n",
       " Text(1.5, 0, 'ZN'),\n",
       " Text(2.5, 0, 'INDUS'),\n",
       " Text(3.5, 0, 'CHAS'),\n",
       " Text(4.5, 0, 'NOX'),\n",
       " Text(5.5, 0, 'RM'),\n",
       " Text(6.5, 0, 'AGE'),\n",
       " Text(7.5, 0, 'DIS'),\n",
       " Text(8.5, 0, 'RAD'),\n",
       " Text(9.5, 0, 'TAX'),\n",
       " Text(10.5, 0, 'PTRATIO'),\n",
       " Text(11.5, 0, 'B'),\n",
       " Text(12.5, 0, 'LSTAT'),\n",
       " Text(13.5, 0, 'PRICE')]"
      ]
     },
     "execution_count": 5,
     "metadata": {},
     "output_type": "execute_result"
    },
    {
     "data": {
      "image/png": "[encoded data removed]",
      "text/plain": [
       "<Figure size 432x288 with 2 Axes>"
      ]
     },
     "metadata": {
      "needs_background": "light"
     },
     "output_type": "display_data"
    }
   ],
   "source": [
    "#Credit: https://towardsdatascience.com/better-heatmaps-and-correlation-matrix-plots-in-python-41445d0f2bec\n",
    "\n",
    "corr = bos.corr()\n",
    "heat = sns.heatmap(\n",
    "    corr,\n",
    "    vmin=-1, vmax=1, center=0,\n",
    "    cmap=sns.diverging_palette(20, 220, n=200),\n",
    "    square=True\n",
    ")\n",
    "heat.set_xticklabels(\n",
    "    heat.get_xticklabels(),\n",
    "    rotation=45,\n",
    "    horizontalalignment='right'\n",
    ")"
   ]
  },
  {
   "cell_type": "code",
   "execution_count": 6,
   "metadata": {},
   "outputs": [
    {
     "data": {
      "text/html": [
       "<div>\n",
       "<style scoped>\n",
       "    .dataframe tbody tr th:only-of-type {\n",
       "        vertical-align: middle;\n",
       "    }\n",
       "\n",
       "    .dataframe tbody tr th {\n",
       "        vertical-align: top;\n",
       "    }\n",
       "\n",
       "    .dataframe thead th {\n",
       "        text-align: right;\n",
       "    }\n",
       "</style>\n",
       "<table border=\"1\" class=\"dataframe\">\n",
       "  <thead>\n",
       "    <tr style=\"text-align: right;\">\n",
       "      <th></th>\n",
       "      <th>CRIM</th>\n",
       "      <th>ZN</th>\n",
       "      <th>INDUS</th>\n",
       "      <th>CHAS</th>\n",
       "      <th>NOX</th>\n",
       "      <th>RM</th>\n",
       "      <th>AGE</th>\n",
       "      <th>DIS</th>\n",
       "      <th>RAD</th>\n",
       "      <th>TAX</th>\n",
       "      <th>PTRATIO</th>\n",
       "      <th>B</th>\n",
       "      <th>LSTAT</th>\n",
       "      <th>PRICE</th>\n",
       "    </tr>\n",
       "  </thead>\n",
       "  <tbody>\n",
       "    <tr>\n",
       "      <th>CRIM</th>\n",
       "      <td>1.000000</td>\n",
       "      <td>-0.462057</td>\n",
       "      <td>0.521014</td>\n",
       "      <td>0.033948</td>\n",
       "      <td>0.603361</td>\n",
       "      <td>-0.211718</td>\n",
       "      <td>0.497297</td>\n",
       "      <td>-0.539878</td>\n",
       "      <td>0.563969</td>\n",
       "      <td>0.544956</td>\n",
       "      <td>0.312768</td>\n",
       "      <td>-0.264378</td>\n",
       "      <td>0.454837</td>\n",
       "      <td>-0.403964</td>\n",
       "    </tr>\n",
       "    <tr>\n",
       "      <th>ZN</th>\n",
       "      <td>-0.462057</td>\n",
       "      <td>1.000000</td>\n",
       "      <td>-0.535468</td>\n",
       "      <td>-0.039419</td>\n",
       "      <td>-0.511464</td>\n",
       "      <td>0.278134</td>\n",
       "      <td>-0.429389</td>\n",
       "      <td>0.478524</td>\n",
       "      <td>-0.234663</td>\n",
       "      <td>-0.289911</td>\n",
       "      <td>-0.361607</td>\n",
       "      <td>0.128177</td>\n",
       "      <td>-0.386818</td>\n",
       "      <td>0.339989</td>\n",
       "    </tr>\n",
       "    <tr>\n",
       "      <th>INDUS</th>\n",
       "      <td>0.521014</td>\n",
       "      <td>-0.535468</td>\n",
       "      <td>1.000000</td>\n",
       "      <td>0.075889</td>\n",
       "      <td>0.612030</td>\n",
       "      <td>-0.291318</td>\n",
       "      <td>0.489070</td>\n",
       "      <td>-0.565137</td>\n",
       "      <td>0.353967</td>\n",
       "      <td>0.483228</td>\n",
       "      <td>0.336612</td>\n",
       "      <td>-0.192017</td>\n",
       "      <td>0.465980</td>\n",
       "      <td>-0.418430</td>\n",
       "    </tr>\n",
       "    <tr>\n",
       "      <th>CHAS</th>\n",
       "      <td>0.033948</td>\n",
       "      <td>-0.039419</td>\n",
       "      <td>0.075889</td>\n",
       "      <td>1.000000</td>\n",
       "      <td>0.056387</td>\n",
       "      <td>0.048080</td>\n",
       "      <td>0.055616</td>\n",
       "      <td>-0.065619</td>\n",
       "      <td>0.021739</td>\n",
       "      <td>-0.037655</td>\n",
       "      <td>-0.115694</td>\n",
       "      <td>-0.033277</td>\n",
       "      <td>-0.041344</td>\n",
       "      <td>0.115202</td>\n",
       "    </tr>\n",
       "    <tr>\n",
       "      <th>NOX</th>\n",
       "      <td>0.603361</td>\n",
       "      <td>-0.511464</td>\n",
       "      <td>0.612030</td>\n",
       "      <td>0.056387</td>\n",
       "      <td>1.000000</td>\n",
       "      <td>-0.215633</td>\n",
       "      <td>0.589608</td>\n",
       "      <td>-0.683930</td>\n",
       "      <td>0.434828</td>\n",
       "      <td>0.453258</td>\n",
       "      <td>0.278678</td>\n",
       "      <td>-0.202430</td>\n",
       "      <td>0.452005</td>\n",
       "      <td>-0.394995</td>\n",
       "    </tr>\n",
       "    <tr>\n",
       "      <th>RM</th>\n",
       "      <td>-0.211718</td>\n",
       "      <td>0.278134</td>\n",
       "      <td>-0.291318</td>\n",
       "      <td>0.048080</td>\n",
       "      <td>-0.215633</td>\n",
       "      <td>1.000000</td>\n",
       "      <td>-0.187611</td>\n",
       "      <td>0.179801</td>\n",
       "      <td>-0.076569</td>\n",
       "      <td>-0.190532</td>\n",
       "      <td>-0.223194</td>\n",
       "      <td>0.032951</td>\n",
       "      <td>-0.468231</td>\n",
       "      <td>0.482829</td>\n",
       "    </tr>\n",
       "    <tr>\n",
       "      <th>AGE</th>\n",
       "      <td>0.497297</td>\n",
       "      <td>-0.429389</td>\n",
       "      <td>0.489070</td>\n",
       "      <td>0.055616</td>\n",
       "      <td>0.589608</td>\n",
       "      <td>-0.187611</td>\n",
       "      <td>1.000000</td>\n",
       "      <td>-0.609836</td>\n",
       "      <td>0.306201</td>\n",
       "      <td>0.360311</td>\n",
       "      <td>0.251857</td>\n",
       "      <td>-0.154056</td>\n",
       "      <td>0.485359</td>\n",
       "      <td>-0.387758</td>\n",
       "    </tr>\n",
       "    <tr>\n",
       "      <th>DIS</th>\n",
       "      <td>-0.539878</td>\n",
       "      <td>0.478524</td>\n",
       "      <td>-0.565137</td>\n",
       "      <td>-0.065619</td>\n",
       "      <td>-0.683930</td>\n",
       "      <td>0.179801</td>\n",
       "      <td>-0.609836</td>\n",
       "      <td>1.000000</td>\n",
       "      <td>-0.361892</td>\n",
       "      <td>-0.381988</td>\n",
       "      <td>-0.223486</td>\n",
       "      <td>0.168631</td>\n",
       "      <td>-0.409347</td>\n",
       "      <td>0.313115</td>\n",
       "    </tr>\n",
       "    <tr>\n",
       "      <th>RAD</th>\n",
       "      <td>0.563969</td>\n",
       "      <td>-0.234663</td>\n",
       "      <td>0.353967</td>\n",
       "      <td>0.021739</td>\n",
       "      <td>0.434828</td>\n",
       "      <td>-0.076569</td>\n",
       "      <td>0.306201</td>\n",
       "      <td>-0.361892</td>\n",
       "      <td>1.000000</td>\n",
       "      <td>0.558107</td>\n",
       "      <td>0.251913</td>\n",
       "      <td>-0.214364</td>\n",
       "      <td>0.287943</td>\n",
       "      <td>-0.248115</td>\n",
       "    </tr>\n",
       "    <tr>\n",
       "      <th>TAX</th>\n",
       "      <td>0.544956</td>\n",
       "      <td>-0.289911</td>\n",
       "      <td>0.483228</td>\n",
       "      <td>-0.037655</td>\n",
       "      <td>0.453258</td>\n",
       "      <td>-0.190532</td>\n",
       "      <td>0.360311</td>\n",
       "      <td>-0.381988</td>\n",
       "      <td>0.558107</td>\n",
       "      <td>1.000000</td>\n",
       "      <td>0.287769</td>\n",
       "      <td>-0.241606</td>\n",
       "      <td>0.384191</td>\n",
       "      <td>-0.414650</td>\n",
       "    </tr>\n",
       "    <tr>\n",
       "      <th>PTRATIO</th>\n",
       "      <td>0.312768</td>\n",
       "      <td>-0.361607</td>\n",
       "      <td>0.336612</td>\n",
       "      <td>-0.115694</td>\n",
       "      <td>0.278678</td>\n",
       "      <td>-0.223194</td>\n",
       "      <td>0.251857</td>\n",
       "      <td>-0.223486</td>\n",
       "      <td>0.251913</td>\n",
       "      <td>0.287769</td>\n",
       "      <td>1.000000</td>\n",
       "      <td>-0.042152</td>\n",
       "      <td>0.330335</td>\n",
       "      <td>-0.398789</td>\n",
       "    </tr>\n",
       "    <tr>\n",
       "      <th>B</th>\n",
       "      <td>-0.264378</td>\n",
       "      <td>0.128177</td>\n",
       "      <td>-0.192017</td>\n",
       "      <td>-0.033277</td>\n",
       "      <td>-0.202430</td>\n",
       "      <td>0.032951</td>\n",
       "      <td>-0.154056</td>\n",
       "      <td>0.168631</td>\n",
       "      <td>-0.214364</td>\n",
       "      <td>-0.241606</td>\n",
       "      <td>-0.042152</td>\n",
       "      <td>1.000000</td>\n",
       "      <td>-0.145430</td>\n",
       "      <td>0.126955</td>\n",
       "    </tr>\n",
       "    <tr>\n",
       "      <th>LSTAT</th>\n",
       "      <td>0.454837</td>\n",
       "      <td>-0.386818</td>\n",
       "      <td>0.465980</td>\n",
       "      <td>-0.041344</td>\n",
       "      <td>0.452005</td>\n",
       "      <td>-0.468231</td>\n",
       "      <td>0.485359</td>\n",
       "      <td>-0.409347</td>\n",
       "      <td>0.287943</td>\n",
       "      <td>0.384191</td>\n",
       "      <td>0.330335</td>\n",
       "      <td>-0.145430</td>\n",
       "      <td>1.000000</td>\n",
       "      <td>-0.668656</td>\n",
       "    </tr>\n",
       "    <tr>\n",
       "      <th>PRICE</th>\n",
       "      <td>-0.403964</td>\n",
       "      <td>0.339989</td>\n",
       "      <td>-0.418430</td>\n",
       "      <td>0.115202</td>\n",
       "      <td>-0.394995</td>\n",
       "      <td>0.482829</td>\n",
       "      <td>-0.387758</td>\n",
       "      <td>0.313115</td>\n",
       "      <td>-0.248115</td>\n",
       "      <td>-0.414650</td>\n",
       "      <td>-0.398789</td>\n",
       "      <td>0.126955</td>\n",
       "      <td>-0.668656</td>\n",
       "      <td>1.000000</td>\n",
       "    </tr>\n",
       "  </tbody>\n",
       "</table>\n",
       "</div>"
      ],
      "text/plain": [
       "             CRIM        ZN     INDUS      CHAS       NOX        RM       AGE  \\\n",
       "CRIM     1.000000 -0.462057  0.521014  0.033948  0.603361 -0.211718  0.497297   \n",
       "ZN      -0.462057  1.000000 -0.535468 -0.039419 -0.511464  0.278134 -0.429389   \n",
       "INDUS    0.521014 -0.535468  1.000000  0.075889  0.612030 -0.291318  0.489070   \n",
       "CHAS     0.033948 -0.039419  0.075889  1.000000  0.056387  0.048080  0.055616   \n",
       "NOX      0.603361 -0.511464  0.612030  0.056387  1.000000 -0.215633  0.589608   \n",
       "RM      -0.211718  0.278134 -0.291318  0.048080 -0.215633  1.000000 -0.187611   \n",
       "AGE      0.497297 -0.429389  0.489070  0.055616  0.589608 -0.187611  1.000000   \n",
       "DIS     -0.539878  0.478524 -0.565137 -0.065619 -0.683930  0.179801 -0.609836   \n",
       "RAD      0.563969 -0.234663  0.353967  0.021739  0.434828 -0.076569  0.306201   \n",
       "TAX      0.544956 -0.289911  0.483228 -0.037655  0.453258 -0.190532  0.360311   \n",
       "PTRATIO  0.312768 -0.361607  0.336612 -0.115694  0.278678 -0.223194  0.251857   \n",
       "B       -0.264378  0.128177 -0.192017 -0.033277 -0.202430  0.032951 -0.154056   \n",
       "LSTAT    0.454837 -0.386818  0.465980 -0.041344  0.452005 -0.468231  0.485359   \n",
       "PRICE   -0.403964  0.339989 -0.418430  0.115202 -0.394995  0.482829 -0.387758   \n",
       "\n",
       "              DIS       RAD       TAX   PTRATIO         B     LSTAT     PRICE  \n",
       "CRIM    -0.539878  0.563969  0.544956  0.312768 -0.264378  0.454837 -0.403964  \n",
       "ZN       0.478524 -0.234663 -0.289911 -0.361607  0.128177 -0.386818  0.339989  \n",
       "INDUS   -0.565137  0.353967  0.483228  0.336612 -0.192017  0.465980 -0.418430  \n",
       "CHAS    -0.065619  0.021739 -0.037655 -0.115694 -0.033277 -0.041344  0.115202  \n",
       "NOX     -0.683930  0.434828  0.453258  0.278678 -0.202430  0.452005 -0.394995  \n",
       "RM       0.179801 -0.076569 -0.190532 -0.223194  0.032951 -0.468231  0.482829  \n",
       "AGE     -0.609836  0.306201  0.360311  0.251857 -0.154056  0.485359 -0.387758  \n",
       "DIS      1.000000 -0.361892 -0.381988 -0.223486  0.168631 -0.409347  0.313115  \n",
       "RAD     -0.361892  1.000000  0.558107  0.251913 -0.214364  0.287943 -0.248115  \n",
       "TAX     -0.381988  0.558107  1.000000  0.287769 -0.241606  0.384191 -0.414650  \n",
       "PTRATIO -0.223486  0.251913  0.287769  1.000000 -0.042152  0.330335 -0.398789  \n",
       "B        0.168631 -0.214364 -0.241606 -0.042152  1.000000 -0.145430  0.126955  \n",
       "LSTAT   -0.409347  0.287943  0.384191  0.330335 -0.145430  1.000000 -0.668656  \n",
       "PRICE    0.313115 -0.248115 -0.414650 -0.398789  0.126955 -0.668656  1.000000  "
      ]
     },
     "execution_count": 6,
     "metadata": {},
     "output_type": "execute_result"
    }
   ],
   "source": [
    "mathy_bones = bos.corr(method='kendall')\n",
    "mathy_bones"
   ]
  },
  {
   "cell_type": "markdown",
   "metadata": {},
   "source": [
    "# 💻 Train the model. Use 75% of the data for the <span style=\"color: red\">training part</span> and 25% for the <span style=\"color: red\">test part</span>."
   ]
  },
  {
   "cell_type": "markdown",
   "metadata": {},
   "source": [
    "### Let's start by working with just a couple features, rather than all of them. I've chosen two features that are not highly correlated with many other features and are only slightly negatively correlated with one another: <span style=\"color: purple\">CRIM</span> and <span style=\"color: purple\">RM</span>."
   ]
  },
  {
   "cell_type": "code",
   "execution_count": 7,
   "metadata": {},
   "outputs": [
    {
     "data": {
      "text/html": [
       "<div>\n",
       "<style scoped>\n",
       "    .dataframe tbody tr th:only-of-type {\n",
       "        vertical-align: middle;\n",
       "    }\n",
       "\n",
       "    .dataframe tbody tr th {\n",
       "        vertical-align: top;\n",
       "    }\n",
       "\n",
       "    .dataframe thead th {\n",
       "        text-align: right;\n",
       "    }\n",
       "</style>\n",
       "<table border=\"1\" class=\"dataframe\">\n",
       "  <thead>\n",
       "    <tr style=\"text-align: right;\">\n",
       "      <th></th>\n",
       "      <th>CRIM</th>\n",
       "      <th>RM</th>\n",
       "      <th>PRICE</th>\n",
       "    </tr>\n",
       "  </thead>\n",
       "  <tbody>\n",
       "    <tr>\n",
       "      <th>count</th>\n",
       "      <td>506.000000</td>\n",
       "      <td>506.000000</td>\n",
       "      <td>506.000000</td>\n",
       "    </tr>\n",
       "    <tr>\n",
       "      <th>mean</th>\n",
       "      <td>3.613524</td>\n",
       "      <td>6.284634</td>\n",
       "      <td>22.532806</td>\n",
       "    </tr>\n",
       "    <tr>\n",
       "      <th>std</th>\n",
       "      <td>8.601545</td>\n",
       "      <td>0.702617</td>\n",
       "      <td>9.197104</td>\n",
       "    </tr>\n",
       "    <tr>\n",
       "      <th>min</th>\n",
       "      <td>0.006320</td>\n",
       "      <td>3.561000</td>\n",
       "      <td>5.000000</td>\n",
       "    </tr>\n",
       "    <tr>\n",
       "      <th>25%</th>\n",
       "      <td>0.082045</td>\n",
       "      <td>5.885500</td>\n",
       "      <td>17.025000</td>\n",
       "    </tr>\n",
       "    <tr>\n",
       "      <th>50%</th>\n",
       "      <td>0.256510</td>\n",
       "      <td>6.208500</td>\n",
       "      <td>21.200000</td>\n",
       "    </tr>\n",
       "    <tr>\n",
       "      <th>75%</th>\n",
       "      <td>3.677083</td>\n",
       "      <td>6.623500</td>\n",
       "      <td>25.000000</td>\n",
       "    </tr>\n",
       "    <tr>\n",
       "      <th>max</th>\n",
       "      <td>88.976200</td>\n",
       "      <td>8.780000</td>\n",
       "      <td>50.000000</td>\n",
       "    </tr>\n",
       "  </tbody>\n",
       "</table>\n",
       "</div>"
      ],
      "text/plain": [
       "             CRIM          RM       PRICE\n",
       "count  506.000000  506.000000  506.000000\n",
       "mean     3.613524    6.284634   22.532806\n",
       "std      8.601545    0.702617    9.197104\n",
       "min      0.006320    3.561000    5.000000\n",
       "25%      0.082045    5.885500   17.025000\n",
       "50%      0.256510    6.208500   21.200000\n",
       "75%      3.677083    6.623500   25.000000\n",
       "max     88.976200    8.780000   50.000000"
      ]
     },
     "execution_count": 7,
     "metadata": {},
     "output_type": "execute_result"
    }
   ],
   "source": [
    "df = bos.drop(columns=['ZN', 'INDUS', 'CHAS', 'NOX', 'AGE', 'DIS', 'RAD', 'TAX', 'PTRATIO', 'B', 'LSTAT'])\n",
    "df.describe()"
   ]
  },
  {
   "cell_type": "markdown",
   "metadata": {},
   "source": [
    "### So there are 506 data points in this reduced dataframe. Let's use the first 380 for <span style=\"color: purple\">training</span> and the remaining 126 for <span style=\"color: purple\">testing</span>."
   ]
  },
  {
   "cell_type": "code",
   "execution_count": 8,
   "metadata": {},
   "outputs": [],
   "source": [
    "features = ['CRIM', 'RM']\n",
    "X_train = df[features][:380]\n",
    "y_train = df.PRICE[:380]\n",
    "X_test = df[features][-126:]\n",
    "y_test = df.PRICE[-126:]"
   ]
  },
  {
   "cell_type": "markdown",
   "metadata": {},
   "source": [
    "### We need to <span style=\"color: purple\">preprocess</span> in order to normalize our features."
   ]
  },
  {
   "cell_type": "code",
   "execution_count": 9,
   "metadata": {},
   "outputs": [],
   "source": [
    "X_train = preprocessing.scale(X_train)\n",
    "X_test = preprocessing.scale(X_test)"
   ]
  },
  {
   "cell_type": "markdown",
   "metadata": {},
   "source": [
    "### Now we'll instantiate sklearn's <span style=\"color: purple\">LinearRegression()</span> class to obtain the best linear representation."
   ]
  },
  {
   "cell_type": "code",
   "execution_count": 10,
   "metadata": {},
   "outputs": [
    {
     "name": "stdout",
     "output_type": "stream",
     "text": [
      "For our first 506 data points:\n",
      " * Weight of importance for 'CRIM' and 'RM':\n",
      "   [0.07937084 6.64325937]\n",
      " * Y-intercept:\n",
      "   25.035263157894736\n"
     ]
    }
   ],
   "source": [
    "house_prices = LinearRegression()\n",
    "house_prices.fit(X_train, y_train)\n",
    "\n",
    "print('For our first 506 data points:')\n",
    "print(' * Weight of importance for \\'CRIM\\' and \\'RM\\':')\n",
    "print('   ' + str(house_prices.coef_))\n",
    "print(' * Y-intercept:')\n",
    "print('   ' + str(house_prices.intercept_))"
   ]
  },
  {
   "cell_type": "markdown",
   "metadata": {},
   "source": [
    "# 🤔 Make predictions on the test set (<span style=\"color:red\">X_test</span>) and see how well it compares to the actual targets from the test set (<span style=\"color: red\">y_test</span>)."
   ]
  },
  {
   "cell_type": "code",
   "execution_count": 11,
   "metadata": {},
   "outputs": [
    {
     "name": "stdout",
     "output_type": "stream",
     "text": [
      "Predicted prices of last 126 houses using the linear representation obtained above:\n",
      "[36.47530656 31.14954586 19.41408566 19.22170758  5.93696279 16.4556548\n",
      "  9.25411782 13.2779366  11.83911802 17.71560078 21.45311255 25.36174305\n",
      " 13.6316363  27.02723417 23.50715291 30.25036798 29.46883544 21.8513571\n",
      " 18.62032012 23.08153187 24.7338869  28.79839878 29.47874531 17.33645351\n",
      " 19.54288397 21.45734474  3.2743307  20.26470772 20.34278233 34.70015397\n",
      " 22.21826508 32.4373761   8.94365951 15.10976196  7.83561333 29.87553999\n",
      " 33.86786621 16.82136712 24.66610695 34.36039975 29.5685067  24.85006733\n",
      " 20.72896888 25.97470161 19.74798812 23.62592472 22.92110261 27.2991271\n",
      " 27.01985635 29.19904203 28.82319203 34.45462692 29.70398869 29.82652301\n",
      " 27.23154576 32.09609566 30.16738107 26.58966298 24.06543147 20.47017993\n",
      " 22.75745781 29.50267219 27.31144066 30.41988008 23.12138074 30.12254734\n",
      " 28.72931705 27.70699174 26.93844577 29.61749641 33.46154261 32.36447492\n",
      " 28.21232925 40.93595694 33.23424494 30.85347115 24.48870014 24.04539388\n",
      " 28.27407144 25.71822706 32.89409819 29.12007026 28.45321516 30.72053272\n",
      " 27.20806332 21.96443323 24.20531831 24.80027423 23.97205662 21.48841196\n",
      " 26.70102168 27.41796507 29.82649492 36.12745461 18.14396963 26.65486417\n",
      " 30.37886559 16.75832543 26.94366542 27.47741553 27.57897872 33.4673055\n",
      " 37.07270916 21.99721728 23.25826129 28.37803729 26.09437355 23.66659527\n",
      " 18.41132018 17.94780746 14.2267505  24.54349802 24.54353024 21.34435513\n",
      " 23.88372867 20.91546502 17.67020062 22.35345258 24.96159862 19.7446147\n",
      " 25.0542536  31.61468086 26.13132285 36.05460183 33.94504677 25.08800921]\n",
      "\n",
      "Actual prices of last 126 houses:\n",
      "[10.4 10.9 11.3 12.3  8.8  7.2 10.5  7.4 10.2 11.5 15.1 23.2  9.7 13.8\n",
      " 12.7 13.1 12.5  8.5  5.   6.3  5.6  7.2 12.1  8.3  8.5  5.  11.9 27.9\n",
      " 17.2 27.5 15.  17.2 17.9 16.3  7.   7.2  7.5 10.4  8.8  8.4 16.7 14.2\n",
      " 20.8 13.4 11.7  8.3 10.2 10.9 11.   9.5 14.5 14.1 16.1 14.3 11.7 13.4\n",
      "  9.6  8.7  8.4 12.8 10.5 17.1 18.4 15.4 10.8 11.8 14.9 12.6 14.1 13.\n",
      " 13.4 15.2 16.1 17.8 14.9 14.1 12.7 13.5 14.9 20.  16.4 17.7 19.5 20.2\n",
      " 21.4 19.9 19.  19.1 19.1 20.1 19.9 19.6 23.2 29.8 13.8 13.3 16.7 12.\n",
      " 14.6 21.4 23.  23.7 25.  21.8 20.6 21.2 19.1 20.6 15.2  7.   8.1 13.6\n",
      " 20.1 21.8 24.5 23.1 19.7 18.3 21.2 17.5 16.8 22.4 20.6 23.9 22.  11.9]\n",
      "\n",
      "The difference, positive or negative, between predicted price and true price:\n",
      "[26.07530656 20.24954586  8.11408566  6.92170758  2.86303721  9.2556548\n",
      "  1.24588218  5.8779366   1.63911802  6.21560078  6.35311255  2.16174305\n",
      "  3.9316363  13.22723417 10.80715291 17.15036798 16.96883544 13.3513571\n",
      " 13.62032012 16.78153187 19.1338869  21.59839878 17.37874531  9.03645351\n",
      " 11.04288397 16.45734474  8.6256693   7.63529228  3.14278233  7.20015397\n",
      "  7.21826508 15.2373761   8.95634049  1.19023804  0.83561333 22.67553999\n",
      " 26.36786621  6.42136712 15.86610695 25.96039975 12.8685067  10.65006733\n",
      "  0.07103112 12.57470161  8.04798812 15.32592472 12.72110261 16.3991271\n",
      " 16.01985635 19.69904203 14.32319203 20.35462692 13.60398869 15.52652301\n",
      " 15.53154576 18.69609566 20.56738107 17.88966298 15.66543147  7.67017993\n",
      " 12.25745781 12.40267219  8.91144066 15.01988008 12.32138074 18.32254734\n",
      " 13.82931705 15.10699174 12.83844577 16.61749641 20.06154261 17.16447492\n",
      " 12.11232925 23.13595694 18.33424494 16.75347115 11.78870014 10.54539388\n",
      " 13.37407144  5.71822706 16.49409819 11.42007026  8.95321516 10.52053272\n",
      "  5.80806332  2.06443323  5.20531831  5.70027423  4.87205662  1.38841196\n",
      "  6.80102168  7.81796507  6.62649492  6.32745461  4.34396963 13.35486417\n",
      " 13.67886559  4.75832543 12.34366542  6.07741553  4.57897872  9.7673055\n",
      " 12.07270916  0.19721728  2.65826129  7.17803729  6.99437355  3.06659527\n",
      "  3.21132018 10.94780746  6.1267505  10.94349802  4.44353024  0.45564487\n",
      "  0.61627133  2.18453498  2.02979938  4.05345258  3.76159862  2.2446147\n",
      "  8.2542536   9.21468086  5.53132285 12.15460183 11.94504677 13.18800921]\n"
     ]
    }
   ],
   "source": [
    "predictions = house_prices.predict(X_test)\n",
    "reality = y_test.values\n",
    "difference = predictions - reality\n",
    "\n",
    "print('Predicted prices of last 126 houses using the linear representation obtained above:')\n",
    "print(house_prices.predict(X_test))\n",
    "print('')\n",
    "\n",
    "print('Actual prices of last 126 houses:')\n",
    "print(y_test.values)\n",
    "print('')\n",
    "\n",
    "print('The difference, positive or negative, between predicted price and true price:')\n",
    "print(abs(difference))"
   ]
  },
  {
   "cell_type": "markdown",
   "metadata": {},
   "source": [
    "### Our predictions don't seem to compare so well to reality. 😞 Let's compute our model's <span style=\"color: purple\">Mean Square Error</span> and <span style=\"color: purple\">R2 Score</span> to see <span style=\"color: blue\">precisely</span> how our model measures up!"
   ]
  },
  {
   "cell_type": "markdown",
   "metadata": {},
   "source": [
    "# 🧮 Compute Mean Square Error (<span style=\"color:red\">MSE</span>) and R-Squared (<span style=\"color:red\">R2</span>) Score of the model."
   ]
  },
  {
   "cell_type": "code",
   "execution_count": 12,
   "metadata": {},
   "outputs": [
    {
     "name": "stdout",
     "output_type": "stream",
     "text": [
      "Mean Square Error:\n",
      "151.54996896077986\n",
      "\n",
      "R2 Score:\n",
      "-4.226212436812853\n",
      "\n",
      "Wait, no, that can't be right. Let's calculate the R2 score another way:\n",
      "-4.226212436812853\n"
     ]
    }
   ],
   "source": [
    "print('Mean Square Error:')\n",
    "print(mean_squared_error(reality, predictions))\n",
    "print('')\n",
    "print('R2 Score:')\n",
    "print(house_prices.score(X_test, y_test))\n",
    "print('')\n",
    "print('Wait, no, that can\\'t be right. Let\\'s calculate the R2 score another way:')\n",
    "print(r2_score(y_test, house_prices.predict(X_test)))"
   ]
  },
  {
   "cell_type": "markdown",
   "metadata": {},
   "source": [
    "### Sadly, this model lacks goodness of fit. <span style=\"color: blue\">The ideal MSE is 0.0</span>, but this model yielded an extremely high MSE. <span style=\"color: blue\">The ideal R2 Score is 1.0</span>. An R2 Score of 0.0 indicates a model always predicting the true value of y, regardless of input... and a <span style=\"color: blue\">negative R2 score indicates an even worse predicting model</span>.\n",
    "\n",
    "### <span style=\"color: blue\">Adding more predictors</span> can only improve goodness of fit. Let's do just that!"
   ]
  },
  {
   "cell_type": "markdown",
   "metadata": {},
   "source": [
    "# 🔁 Let's make another model, but this time around, include <span style=\"color: purple\">all</span> the features! All the other steps will remain the same to what we did above."
   ]
  },
  {
   "cell_type": "code",
   "execution_count": 13,
   "metadata": {},
   "outputs": [],
   "source": [
    "features = ['CRIM', 'ZN', 'INDUS', 'CHAS', 'NOX', 'RM', 'AGE', 'DIS', 'RAD', 'TAX', 'PTRATIO', 'B', 'LSTAT']\n",
    "X_train = bos[features][:380]\n",
    "y_train = bos.PRICE[:380]\n",
    "X_test = bos[features][-126:]\n",
    "y_test = bos.PRICE[-126:]"
   ]
  },
  {
   "cell_type": "code",
   "execution_count": 14,
   "metadata": {},
   "outputs": [
    {
     "name": "stdout",
     "output_type": "stream",
     "text": [
      "For our first 506 data points:\n",
      " * Weight of importance for 'CRIM' and 'RM':\n",
      "   [-0.73028783  1.18506854  0.43648036  0.26389326 -1.68244183  3.79645188\n",
      " -0.04165396 -2.82967552  3.16721792 -1.57738436 -1.80029465  0.07732184\n",
      " -2.81312344]\n",
      " * Y-intercept:\n",
      "   25.035263157894736\n",
      "\n",
      "Predicted prices of last 126 houses using the linear representation obtained above:\n",
      "[31.84156217 30.65314791 22.1004137  21.85429058 11.25794993 17.47659756\n",
      " 13.8716471  14.37470105 14.25019868 21.71498195 24.64630689 25.08420423\n",
      " 16.80502696 29.47579681 26.70308563 30.73140861 29.67657124 25.17457625\n",
      " 17.47206534 21.88465762 22.96050935 28.88121987 29.20934381 21.36746694\n",
      " 18.70259984 21.17210575 15.39786869 30.12882449 24.82396283 35.49599879\n",
      " 30.82777346 33.19626073 13.42402912 22.77545676  7.01986606 24.2479999\n",
      " 28.50919683 18.42873477 22.10417201 29.23864835 29.79146693 26.95408108\n",
      " 27.4819354  26.11866515 25.88168235 22.5465794  28.52692454 28.15763182\n",
      " 26.23072945 25.98125912 30.91920335 32.92515873 33.39383951 27.53540456\n",
      " 26.49361623 25.51808125 27.14757903 21.66502618 17.40504845 20.80038471\n",
      " 21.50377016 26.23989481 26.83255291 27.46839745 21.24041707 24.72792272\n",
      " 26.70717745 25.95044158 25.1989084  26.62408908 28.89383026 28.22361654\n",
      " 26.04848965 32.94386195 27.19062948 26.69893183 21.93796159 21.47099812\n",
      " 24.34574228 24.01335873 27.94398255 26.87429742 25.82713926 28.49469801\n",
      " 25.89687296 22.26532547 22.83199893 24.91635772 23.65513249 24.36758321\n",
      " 26.04982825 28.97979723 29.44270023 35.06716562 22.89223013 26.21394607\n",
      " 29.64351956 19.43225508 28.31131568 31.70393784 28.42386462 33.57231233\n",
      " 35.57238734 22.32933722 22.18434374 24.96232335 23.65095646 25.89695635\n",
      " 18.08937093 15.42749778 10.37796308 21.34232078 22.34388622 29.37486266\n",
      " 30.13722249 24.63855883 21.05698232 26.46548671 30.86208532 26.9200457\n",
      " 29.80436815 25.11282701 23.15960425 30.93009561 28.26615344 22.0347436 ]\n",
      "\n",
      "Actual prices of last 126 houses:\n",
      "[10.4 10.9 11.3 12.3  8.8  7.2 10.5  7.4 10.2 11.5 15.1 23.2  9.7 13.8\n",
      " 12.7 13.1 12.5  8.5  5.   6.3  5.6  7.2 12.1  8.3  8.5  5.  11.9 27.9\n",
      " 17.2 27.5 15.  17.2 17.9 16.3  7.   7.2  7.5 10.4  8.8  8.4 16.7 14.2\n",
      " 20.8 13.4 11.7  8.3 10.2 10.9 11.   9.5 14.5 14.1 16.1 14.3 11.7 13.4\n",
      "  9.6  8.7  8.4 12.8 10.5 17.1 18.4 15.4 10.8 11.8 14.9 12.6 14.1 13.\n",
      " 13.4 15.2 16.1 17.8 14.9 14.1 12.7 13.5 14.9 20.  16.4 17.7 19.5 20.2\n",
      " 21.4 19.9 19.  19.1 19.1 20.1 19.9 19.6 23.2 29.8 13.8 13.3 16.7 12.\n",
      " 14.6 21.4 23.  23.7 25.  21.8 20.6 21.2 19.1 20.6 15.2  7.   8.1 13.6\n",
      " 20.1 21.8 24.5 23.1 19.7 18.3 21.2 17.5 16.8 22.4 20.6 23.9 22.  11.9]\n",
      "\n",
      "The difference, positive or negative, between predicted price and true price:\n",
      "[2.14415622e+01 1.97531479e+01 1.08004137e+01 9.55429058e+00\n",
      " 2.45794993e+00 1.02765976e+01 3.37164710e+00 6.97470105e+00\n",
      " 4.05019868e+00 1.02149819e+01 9.54630689e+00 1.88420423e+00\n",
      " 7.10502696e+00 1.56757968e+01 1.40030856e+01 1.76314086e+01\n",
      " 1.71765712e+01 1.66745762e+01 1.24720653e+01 1.55846576e+01\n",
      " 1.73605094e+01 2.16812199e+01 1.71093438e+01 1.30674669e+01\n",
      " 1.02025998e+01 1.61721058e+01 3.49786869e+00 2.22882449e+00\n",
      " 7.62396283e+00 7.99599879e+00 1.58277735e+01 1.59962607e+01\n",
      " 4.47597088e+00 6.47545676e+00 1.98660632e-02 1.70479999e+01\n",
      " 2.10091968e+01 8.02873477e+00 1.33041720e+01 2.08386484e+01\n",
      " 1.30914669e+01 1.27540811e+01 6.68193540e+00 1.27186652e+01\n",
      " 1.41816824e+01 1.42465794e+01 1.83269245e+01 1.72576318e+01\n",
      " 1.52307295e+01 1.64812591e+01 1.64192033e+01 1.88251587e+01\n",
      " 1.72938395e+01 1.32354046e+01 1.47936162e+01 1.21180812e+01\n",
      " 1.75475790e+01 1.29650262e+01 9.00504845e+00 8.00038471e+00\n",
      " 1.10037702e+01 9.13989481e+00 8.43255291e+00 1.20683975e+01\n",
      " 1.04404171e+01 1.29279227e+01 1.18071774e+01 1.33504416e+01\n",
      " 1.10989084e+01 1.36240891e+01 1.54938303e+01 1.30236165e+01\n",
      " 9.94848965e+00 1.51438620e+01 1.22906295e+01 1.25989318e+01\n",
      " 9.23796159e+00 7.97099812e+00 9.44574228e+00 4.01335873e+00\n",
      " 1.15439826e+01 9.17429742e+00 6.32713926e+00 8.29469801e+00\n",
      " 4.49687296e+00 2.36532547e+00 3.83199893e+00 5.81635772e+00\n",
      " 4.55513249e+00 4.26758321e+00 6.14982825e+00 9.37979723e+00\n",
      " 6.24270023e+00 5.26716562e+00 9.09223013e+00 1.29139461e+01\n",
      " 1.29435196e+01 7.43225508e+00 1.37113157e+01 1.03039378e+01\n",
      " 5.42386462e+00 9.87231233e+00 1.05723873e+01 5.29337221e-01\n",
      " 1.58434374e+00 3.76232335e+00 4.55095646e+00 5.29695635e+00\n",
      " 2.88937093e+00 8.42749778e+00 2.27796308e+00 7.74232078e+00\n",
      " 2.24388622e+00 7.57486266e+00 5.63722249e+00 1.53855883e+00\n",
      " 1.35698232e+00 8.16548671e+00 9.66208532e+00 9.42004570e+00\n",
      " 1.30043681e+01 2.71282701e+00 2.55960425e+00 7.03009561e+00\n",
      " 6.26615344e+00 1.01347436e+01]\n"
     ]
    }
   ],
   "source": [
    "X_train = preprocessing.scale(X_train)\n",
    "X_test = preprocessing.scale(X_test)\n",
    "\n",
    "house_prices = LinearRegression()\n",
    "house_prices.fit(X_train, y_train)\n",
    "\n",
    "print('For our first 506 data points:')\n",
    "print(' * Weight of importance for \\'CRIM\\' and \\'RM\\':')\n",
    "print('   ' + str(house_prices.coef_))\n",
    "print(' * Y-intercept:')\n",
    "print('   ' + str(house_prices.intercept_))\n",
    "print('')\n",
    "\n",
    "predictions = house_prices.predict(X_test)\n",
    "reality = y_test.values\n",
    "difference = predictions - reality\n",
    "\n",
    "print('Predicted prices of last 126 houses using the linear representation obtained above:')\n",
    "print(house_prices.predict(X_test))\n",
    "print('')\n",
    "\n",
    "print('Actual prices of last 126 houses:')\n",
    "print(y_test.values)\n",
    "print('')\n",
    "\n",
    "print('The difference, positive or negative, between predicted price and true price:')\n",
    "print(abs(difference))"
   ]
  },
  {
   "cell_type": "markdown",
   "metadata": {},
   "source": [
    "### Seems like a more accurate model! Let's calculate the <span style=\"color: purple\">MSE</span> and <span style=\"color: purple\">R2 Score</span>."
   ]
  },
  {
   "cell_type": "code",
   "execution_count": 15,
   "metadata": {},
   "outputs": [
    {
     "name": "stdout",
     "output_type": "stream",
     "text": [
      "Mean Square Error:\n",
      "129.34386929707364\n",
      "\n",
      "R2 Score:\n",
      "-3.4604333671675063\n",
      "\n",
      "Let's calculate the R2 score another way, just to be sure:\n",
      "-3.4604333671675063\n"
     ]
    }
   ],
   "source": [
    "print('Mean Square Error:')\n",
    "print(mean_squared_error(reality, predictions))\n",
    "print('')\n",
    "print('R2 Score:')\n",
    "print(house_prices.score(X_test, y_test))\n",
    "print('')\n",
    "print('Let\\'s calculate the R2 score another way, just to be sure:')\n",
    "print(r2_score(y_test, house_prices.predict(X_test)))"
   ]
  },
  {
   "cell_type": "markdown",
   "metadata": {},
   "source": [
    "### Well, that's not much better, but it's still an improvement. That tells us that while our original model was not a great fit, using all the features doesn't help that much, either. <span style=\"color: purple\">Choosing the right features to work with</span> seems vital. I did not select features wisely; for future endeavors, I will pay closer attention to potential predictors' correlation with the target."
   ]
  },
  {
   "cell_type": "code",
   "execution_count": null,
   "metadata": {},
   "outputs": [],
   "source": []
  }
 ],
 "metadata": {
  "kernelspec": {
   "display_name": "Python 3",
   "language": "python",
   "name": "python3"
  },
  "language_info": {
   "codemirror_mode": {
    "name": "ipython",
    "version": 3
   },
   "file_extension": ".py",
   "mimetype": "text/x-python",
   "name": "python",
   "nbconvert_exporter": "python",
   "pygments_lexer": "ipython3",
   "version": "3.7.1"
  }
 },
 "nbformat": 4,
 "nbformat_minor": 2
}
