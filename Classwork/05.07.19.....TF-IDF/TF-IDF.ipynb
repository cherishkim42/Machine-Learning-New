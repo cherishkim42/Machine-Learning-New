{
 "cells": [
  {
   "cell_type": "markdown",
   "metadata": {},
   "source": [
    "# Finding Important Words in Text Using TF-IDF\n",
    "\n",
    "### Overview\n",
    "\n",
    "* **TF-IDF**: \"Term Frequency, Inverse Document Frequency\"\n",
    "    * Way to score the importance of words (or \"terms\") in a document basde on how frequently they appear across multiple documents\n",
    "    * Intuitively:\n",
    "        * Frequently appearing word in a document = important; give the word a high **score**\n",
    "        * Word appears in **many** documents = not a unique identifier; give the word a low **score**\n",
    "    * Calculated from **bag-of-words** (BOW) - *BOW itself doesn't give a score, just # times appeared*\n",
    "        * BOW\n",
    "        * BOW -> TF-IDF Matrix (*document-term-matrix*?)\n",
    "        * Each element in TF-IDF matrix shows the word score in that sentence while considering the word appearance in other sentences\n",
    "        * Taking avg. column-wise and ranking them --> **keywords**\n",
    "    * The Python packages **Sklearn**, **Gensim**, and **Keras** have build-in TF-IDF module\n",
    "    * Also, here we saw that each document can be *vectorized* by counting or TF-IDF score\n",
    "    * In order to have better keyword extraction, it is possible to obtain keyword while do not consider stop words\n",
    "    \n",
    "### Application of keyword extraction for Influencer Marketing on social networks\n",
    "\n",
    "* Influencer marketing = target customers using influencers' frequently used category/label/tag\n",
    "* We can use natural language processing (NLP) to extract keywords & top hashtags and then **mapped to category** (word2vec)\n",
    "* So there'd be **three categories/columns**: 1 for influencer name, 2 for top keywords from top 20 (or however many) posts, 3 for category/label/tag (the keywords 'marathon' and 'fitspo' corr. to 'sport' or 'health', for instance; keywords 'pizza' and 'tasty' corr. to 'food'))\n",
    "* There are different ways to test & deploy the Python module that has been developed\n",
    "\n",
    "\n",
    "* TD-IDF can also be used in **TOPIC MODELING**\n",
    "    \n",
    "### Write 3 functions using SKLEARN, GENSIM and KERAS packages to return top 5 keywords based on TF-IDF criteria. \n",
    "\n",
    "### Implement TextRank keyword extraction criteria\n",
    "\n",
    "### Compare TD-IDF and TextRank in terms of execution speed for large docs"
   ]
  },
  {
   "cell_type": "code",
   "execution_count": null,
   "metadata": {},
   "outputs": [],
   "source": []
  }
 ],
 "metadata": {
  "kernelspec": {
   "display_name": "Python 3",
   "language": "python",
   "name": "python3"
  },
  "language_info": {
   "codemirror_mode": {
    "name": "ipython",
    "version": 3
   },
   "file_extension": ".py",
   "mimetype": "text/x-python",
   "name": "python",
   "nbconvert_exporter": "python",
   "pygments_lexer": "ipython3",
   "version": "3.7.1"
  }
 },
 "nbformat": 4,
 "nbformat_minor": 2
}
