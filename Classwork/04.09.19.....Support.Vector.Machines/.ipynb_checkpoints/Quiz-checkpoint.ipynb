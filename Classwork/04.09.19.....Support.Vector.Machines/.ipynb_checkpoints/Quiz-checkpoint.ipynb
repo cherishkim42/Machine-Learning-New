{
 "cells": [
  {
   "cell_type": "markdown",
   "metadata": {},
   "source": [
    "# Quiz: A two dimensional array (Matrix) X is given, write a function that:\n",
    "\n",
    "- Subtract the minimum element of each column from all the elements of that column\n",
    "\n",
    "- Then divide the result to the range of value for each column\n",
    "\n",
    "Hint: range is the difference between the maximum element and minimum element of each column"
   ]
  },
  {
   "cell_type": "markdown",
   "metadata": {},
   "source": [
    "### My attempt"
   ]
  },
  {
   "cell_type": "code",
   "execution_count": 1,
   "metadata": {},
   "outputs": [],
   "source": [
    "import numpy as np\n",
    "import pandas as pd"
   ]
  },
  {
   "cell_type": "code",
   "execution_count": 2,
   "metadata": {},
   "outputs": [
    {
     "data": {
      "text/plain": [
       "array([[1000.,    2.],\n",
       "       [1500.,    3.]])"
      ]
     },
     "execution_count": 2,
     "metadata": {},
     "output_type": "execute_result"
    }
   ],
   "source": [
    "x = np.array([[1000.0, 2.0], [1500.0, 3.0]])\n",
    "x"
   ]
  },
  {
   "cell_type": "code",
   "execution_count": 3,
   "metadata": {},
   "outputs": [],
   "source": [
    "#PSEUDOCODE\n",
    "#For each row in the column... lol append to an array\n",
    "#Then sort it\n",
    "#Set what's at index 0 to 'min'\n",
    "#Set what's at the last index (like, matrix[len(matrix)-1]) to 'max'\n",
    "#Subtract them, set this equal to 'range'\n",
    "#Then for each row in the column, subtract min from existing value\n",
    "#Divide the result by the range\n",
    "#Replace it in its ORIGINAL PLACE. so. updating\n",
    "\n",
    "def divide_me(matrix):\n",
    "    temp = []\n",
    "    for row in column:\n",
    "        temp.append(row)\n",
    "        temp.sort()\n",
    "        our_min = temp[0]\n",
    "        our_max = temp[len(matrix)-1]\n",
    "        our_range = our_max-our_min\n",
    "        \n",
    "# didn't finish rip\n",
    "        "
   ]
  },
  {
   "cell_type": "markdown",
   "metadata": {},
   "source": [
    "## The True Way"
   ]
  },
  {
   "cell_type": "code",
   "execution_count": 4,
   "metadata": {},
   "outputs": [
    {
     "name": "stdout",
     "output_type": "stream",
     "text": [
      "[[1000.    2.]\n",
      " [1500.    3.]]\n",
      "[1000.    2.]\n",
      "[[  0.   0.]\n",
      " [500.   1.]]\n"
     ]
    }
   ],
   "source": [
    "# HERE IS THE CORRECT SOLUTION\n",
    "\n",
    "def max_min_s(X):\n",
    "    return (x - X.min(axis=0)) / (X.max(axis=0) - X.min(axis=0))\n",
    "\n",
    "X = np.array([[1000.0, 2.0], [1500.0, 3.0]])\n",
    "max_min_s(X)\n",
    "print(X)\n",
    "print(X.min(axis=0))\n",
    "print(X - X.min(axis=0))"
   ]
  },
  {
   "cell_type": "code",
   "execution_count": null,
   "metadata": {},
   "outputs": [],
   "source": []
  }
 ],
 "metadata": {
  "kernelspec": {
   "display_name": "Python 3",
   "language": "python",
   "name": "python3"
  },
  "language_info": {
   "codemirror_mode": {
    "name": "ipython",
    "version": 3
   },
   "file_extension": ".py",
   "mimetype": "text/x-python",
   "name": "python",
   "nbconvert_exporter": "python",
   "pygments_lexer": "ipython3",
   "version": "3.7.1"
  }
 },
 "nbformat": 4,
 "nbformat_minor": 2
}
