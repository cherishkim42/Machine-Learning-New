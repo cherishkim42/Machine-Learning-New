{
 "cells": [
  {
   "cell_type": "markdown",
   "metadata": {},
   "source": [
    "# Support Vector Machines\n"
   ]
  },
  {
   "cell_type": "markdown",
   "metadata": {},
   "source": [
    "**Classification technique.** Another way of saying this: Split the data in the **best possible way.**\n",
    "\n",
    "The best split is the widest **margin** separating two clumps of data, i.e. **the distance between the *close* points (*support vectors*) and the line (*hyperplane*) is as far as possible.** In summation,\n",
    "\n",
    "* A good **hyperplane** best splits the data,\n",
    "    * because it's as far as possible from the **support vectors**,\n",
    "        * which is another way of saying we maximized the **margin**.\n",
    "* The data's entirety affects the margin, but **only** the **support vectors** actually **border** it.\n",
    "        \n",
    "**How do you maximize the margin?**\n",
    "\n",
    "* This is a **constrained optimization problem**.\n",
    "\n",
    "* This can be solved using the **Lagrange Multipliers** technique."
   ]
  },
  {
   "cell_type": "markdown",
   "metadata": {},
   "source": [
    "# Challenge: Cupcakes vs Muffins\n",
    "\n",
    "*Classify recipes as cupcakes or muffins. When given a new recipe, determine if it's a cupcake or a muffin.*\n",
    "\n",
    "**Steps:**\n",
    "1. Find the data\n",
    "1. Apply a data science model\n",
    "1. Review the results"
   ]
  },
  {
   "cell_type": "markdown",
   "metadata": {},
   "source": [
    "## Step 1: Find the data\n",
    "\n",
    "* Problems with finding data\n",
    "* Not all recipes yielded same amount of batter - **have to normalize data**\n",
    "    * Solution: Change data (each ingredient in its own column) from **amount-based** to **percent-based**"
   ]
  },
  {
   "cell_type": "markdown",
   "metadata": {},
   "source": [
    "## Step 2: Apply a data science model.\n",
    "*Python script!!*\n",
    "\n",
    "**Steps:**\n",
    "1. Import Libraries\n",
    "1. Import Data\n",
    "1. Prepare the Data\n",
    "1. Fit the Model\n",
    "1. Visualize Results\n",
    "1. Predict New Case"
   ]
  },
  {
   "cell_type": "markdown",
   "metadata": {},
   "source": [
    "### IMPORT LIBRARIES"
   ]
  },
  {
   "cell_type": "code",
   "execution_count": 1,
   "metadata": {},
   "outputs": [],
   "source": [
    "# Allows charts to appear in the notebook\n",
    "%matplotlib inline\n",
    "\n",
    "# Libraries for analysis\n",
    "import pandas as pd\n",
    "import numpy as np\n",
    "from sklearn import svm\n",
    "\n",
    "# Libraries for visuals\n",
    "import matplotlib.pyplot as plt\n",
    "import seaborn as sns; sns.set(font_scale=1.2)"
   ]
  },
  {
   "cell_type": "markdown",
   "metadata": {},
   "source": [
    "### IMPORT DATA"
   ]
  },
  {
   "cell_type": "code",
   "execution_count": 2,
   "metadata": {},
   "outputs": [
    {
     "data": {
      "text/html": [
       "<div>\n",
       "<style scoped>\n",
       "    .dataframe tbody tr th:only-of-type {\n",
       "        vertical-align: middle;\n",
       "    }\n",
       "\n",
       "    .dataframe tbody tr th {\n",
       "        vertical-align: top;\n",
       "    }\n",
       "\n",
       "    .dataframe thead th {\n",
       "        text-align: right;\n",
       "    }\n",
       "</style>\n",
       "<table border=\"1\" class=\"dataframe\">\n",
       "  <thead>\n",
       "    <tr style=\"text-align: right;\">\n",
       "      <th></th>\n",
       "      <th>Type</th>\n",
       "      <th>Flour</th>\n",
       "      <th>Milk</th>\n",
       "      <th>Sugar</th>\n",
       "      <th>Butter</th>\n",
       "      <th>Egg</th>\n",
       "      <th>Baking Powder</th>\n",
       "      <th>Vanilla</th>\n",
       "      <th>Salt</th>\n",
       "    </tr>\n",
       "  </thead>\n",
       "  <tbody>\n",
       "    <tr>\n",
       "      <th>0</th>\n",
       "      <td>Muffin</td>\n",
       "      <td>55</td>\n",
       "      <td>28</td>\n",
       "      <td>3</td>\n",
       "      <td>7</td>\n",
       "      <td>5</td>\n",
       "      <td>2</td>\n",
       "      <td>0</td>\n",
       "      <td>0</td>\n",
       "    </tr>\n",
       "    <tr>\n",
       "      <th>1</th>\n",
       "      <td>Muffin</td>\n",
       "      <td>47</td>\n",
       "      <td>24</td>\n",
       "      <td>12</td>\n",
       "      <td>6</td>\n",
       "      <td>9</td>\n",
       "      <td>1</td>\n",
       "      <td>0</td>\n",
       "      <td>0</td>\n",
       "    </tr>\n",
       "    <tr>\n",
       "      <th>2</th>\n",
       "      <td>Muffin</td>\n",
       "      <td>47</td>\n",
       "      <td>23</td>\n",
       "      <td>18</td>\n",
       "      <td>6</td>\n",
       "      <td>4</td>\n",
       "      <td>1</td>\n",
       "      <td>0</td>\n",
       "      <td>0</td>\n",
       "    </tr>\n",
       "    <tr>\n",
       "      <th>3</th>\n",
       "      <td>Muffin</td>\n",
       "      <td>45</td>\n",
       "      <td>11</td>\n",
       "      <td>17</td>\n",
       "      <td>17</td>\n",
       "      <td>8</td>\n",
       "      <td>1</td>\n",
       "      <td>0</td>\n",
       "      <td>0</td>\n",
       "    </tr>\n",
       "    <tr>\n",
       "      <th>4</th>\n",
       "      <td>Muffin</td>\n",
       "      <td>50</td>\n",
       "      <td>25</td>\n",
       "      <td>12</td>\n",
       "      <td>6</td>\n",
       "      <td>5</td>\n",
       "      <td>2</td>\n",
       "      <td>1</td>\n",
       "      <td>0</td>\n",
       "    </tr>\n",
       "  </tbody>\n",
       "</table>\n",
       "</div>"
      ],
      "text/plain": [
       "     Type  Flour  Milk  Sugar  Butter  Egg  Baking Powder  Vanilla  Salt\n",
       "0  Muffin     55    28      3       7    5              2        0     0\n",
       "1  Muffin     47    24     12       6    9              1        0     0\n",
       "2  Muffin     47    23     18       6    4              1        0     0\n",
       "3  Muffin     45    11     17      17    8              1        0     0\n",
       "4  Muffin     50    25     12       6    5              2        1     0"
      ]
     },
     "execution_count": 2,
     "metadata": {},
     "output_type": "execute_result"
    }
   ],
   "source": [
    "recipes = pd.read_csv('recipes_muffins_cupcakes.csv')\n",
    "recipes.head()"
   ]
  },
  {
   "cell_type": "markdown",
   "metadata": {},
   "source": [
    "### PREPARE THE DATA\n",
    "*Before fitting the model, it's a good idea to visualize the data to see if it makes sense. Plotting 2 of the 8  ingredients here.*"
   ]
  },
  {
   "cell_type": "code",
   "execution_count": 3,
   "metadata": {},
   "outputs": [
    {
     "data": {
      "text/plain": [
       "<seaborn.axisgrid.FacetGrid at 0x1a1cede710>"
      ]
     },
     "execution_count": 3,
     "metadata": {},
     "output_type": "execute_result"
    },
    {
     "data": {
      "image/png": "[encoded data removed]",
      "text/plain": [
       "<Figure size 459.77x360 with 1 Axes>"
      ]
     },
     "metadata": {
      "needs_background": "light"
     },
     "output_type": "display_data"
    }
   ],
   "source": [
    "# Plot 2 ingredients\n",
    "sns.lmplot('Sugar', 'Butter', data=recipes, hue='Type', palette='Set1', fit_reg=False, scatter_kws={\"s\": 70})"
   ]
  },
  {
   "cell_type": "markdown",
   "metadata": {},
   "source": [
    "### FIT THE MODEL"
   ]
  },
  {
   "cell_type": "code",
   "execution_count": 4,
   "metadata": {},
   "outputs": [
    {
     "name": "stderr",
     "output_type": "stream",
     "text": [
      "/Users/cherishkim/anaconda3/lib/python3.7/site-packages/ipykernel_launcher.py:2: FutureWarning: Method .as_matrix will be removed in a future version. Use .values instead.\n",
      "  \n"
     ]
    }
   ],
   "source": [
    "# Specify inputs for the model\n",
    "sugar_butter = recipes[['Sugar','Butter']].as_matrix()\n",
    "type_label = np.where(recipes['Type']=='Muffin', 0, 1)"
   ]
  },
  {
   "cell_type": "code",
   "execution_count": 5,
   "metadata": {},
   "outputs": [
    {
     "data": {
      "text/plain": [
       "SVC(C=1.0, cache_size=200, class_weight=None, coef0=0.0,\n",
       "  decision_function_shape='ovr', degree=3, gamma='auto_deprecated',\n",
       "  kernel='linear', max_iter=-1, probability=False, random_state=None,\n",
       "  shrinking=True, tol=0.001, verbose=False)"
      ]
     },
     "execution_count": 5,
     "metadata": {},
     "output_type": "execute_result"
    }
   ],
   "source": [
    "# Fit the SVM model\n",
    "model=svm.SVC(kernel='linear')\n",
    "model.fit(sugar_butter, type_label)"
   ]
  },
  {
   "cell_type": "markdown",
   "metadata": {},
   "source": [
    "### VISUALIZE RESULTS"
   ]
  },
  {
   "cell_type": "code",
   "execution_count": 6,
   "metadata": {},
   "outputs": [],
   "source": [
    "# Get the separating hyperplane\n",
    "w = model.coef_[0]\n",
    "a = -w[0] / w[1]\n",
    "xx = np.linspace(5, 30)\n",
    "yy = a * xx - (model.intercept_[0]) / w[1]\n",
    "\n",
    "# Plot the parallels to the separating hyperplane\n",
    "# that pass through the support vectors\n",
    "b = model.support_vectors_[0]\n",
    "yy_down = a * xx + (b[1] - a * b[0])\n",
    "b = model.support_vectors_[-1]\n",
    "yy_up = a * xx + (b[1] - a * b[0])"
   ]
  },
  {
   "cell_type": "markdown",
   "metadata": {},
   "source": [
    "#### SVM model"
   ]
  },
  {
   "cell_type": "code",
   "execution_count": 7,
   "metadata": {},
   "outputs": [
    {
     "data": {
      "text/plain": [
       "[<matplotlib.lines.Line2D at 0x1a1d22cac8>]"
      ]
     },
     "execution_count": 7,
     "metadata": {},
     "output_type": "execute_result"
    },
    {
     "data": {
      "image/png": "[encoded data removed]",
      "text/plain": [
       "<Figure size 459.77x360 with 1 Axes>"
      ]
     },
     "metadata": {
      "needs_background": "light"
     },
     "output_type": "display_data"
    }
   ],
   "source": [
    "# Plot the hyperplane\n",
    "sns.lmplot('Sugar', 'Butter', data=recipes, hue='Type', palette='Set1', fit_reg=False, scatter_kws={\"s\": 70})\n",
    "plt.plot(xx, yy, linewidth=2, color='black')"
   ]
  },
  {
   "cell_type": "markdown",
   "metadata": {},
   "source": [
    "#### Let's visualize to show that we've maximized the margin"
   ]
  },
  {
   "cell_type": "code",
   "execution_count": 8,
   "metadata": {},
   "outputs": [
    {
     "data": {
      "text/plain": [
       "<matplotlib.collections.PathCollection at 0x1a1d3b17b8>"
      ]
     },
     "execution_count": 8,
     "metadata": {},
     "output_type": "execute_result"
    },
    {
     "data": {
      "image/png": "[encoded data removed]",
      "text/plain": [
       "<Figure size 459.77x360 with 1 Axes>"
      ]
     },
     "metadata": {
      "needs_background": "light"
     },
     "output_type": "display_data"
    }
   ],
   "source": [
    "# Look at the margins and support vectors\n",
    "sns.lmplot('Sugar', 'Butter', data=recipes, hue='Type', palette='Set1', fit_reg=False, scatter_kws={\"s\": 70})\n",
    "plt.plot(xx, yy, linewidth=2, color='black')\n",
    "plt.plot(xx, yy_down, 'k--')\n",
    "plt.plot(xx, yy_up, 'k--')\n",
    "plt.scatter(model.support_vectors_[:, 0], model.support_vectors_[:, 1], s=80, facecolors='none')"
   ]
  },
  {
   "cell_type": "markdown",
   "metadata": {},
   "source": [
    "### PREDICT NEW CASE"
   ]
  },
  {
   "cell_type": "code",
   "execution_count": 9,
   "metadata": {},
   "outputs": [
    {
     "data": {
      "text/plain": [
       "[<matplotlib.lines.Line2D at 0x1a1d58ef60>]"
      ]
     },
     "execution_count": 9,
     "metadata": {},
     "output_type": "execute_result"
    },
    {
     "data": {
      "image/png": "[encoded data removed]",
      "text/plain": [
       "<Figure size 459.77x360 with 1 Axes>"
      ]
     },
     "metadata": {
      "needs_background": "light"
     },
     "output_type": "display_data"
    }
   ],
   "source": [
    "# Plot the point to visually see where the point lies\n",
    "sns.lmplot('Sugar', 'Butter', data=recipes, hue='Type', palette='Set1', fit_reg=False, scatter_kws={\"s\": 70})\n",
    "plt.plot(xx, yy, linewidth=2, color='black')\n",
    "plt.plot(12, 12, 'yo', markersize='9')"
   ]
  },
  {
   "cell_type": "markdown",
   "metadata": {},
   "source": [
    "#### We see that new case would probably be a muffin. Let's get our model to predict it automatically."
   ]
  },
  {
   "cell_type": "code",
   "execution_count": 10,
   "metadata": {},
   "outputs": [],
   "source": [
    "# This function uses our SVM model to predict when a recipe is a muffin or cupcake\n",
    "def muffin_or_cupcake(butter, sugar):\n",
    "    if(model.predict([[butter, sugar]]))==0:\n",
    "        print('You\\'re looking at a muffin recipe!')\n",
    "    else:\n",
    "        print('You\\'re looking at a cupcake recipe!')"
   ]
  },
  {
   "cell_type": "code",
   "execution_count": 11,
   "metadata": {},
   "outputs": [
    {
     "name": "stdout",
     "output_type": "stream",
     "text": [
      "You're looking at a muffin recipe!\n"
     ]
    }
   ],
   "source": [
    "# Predict if 12 parts butter and sugar\n",
    "muffin_or_cupcake(12,12)"
   ]
  },
  {
   "cell_type": "markdown",
   "metadata": {},
   "source": [
    "# Higher Dimensions\n",
    "\n",
    "* 2D: Separate with Line (as we did above!)\n",
    "* 3D: Separate with Plane\n",
    "    * Let's say we wanted to add another dimension, like flour. That'd be 3 dimensions\n",
    "* 4D: Separate with Hyperplane\n",
    "    * Hard to visualize, **easy to code!**\n",
    "    * Look @ **cells 4 & 5**. See how **sugar_butter** is a parameter of **model.fit**? To add more dimensions, we'd simply **pass in all ingredients** as that parameter instead!\n",
    "* more dimensions = wider margin"
   ]
  },
  {
   "cell_type": "markdown",
   "metadata": {},
   "source": [
    "# C Parameter\n",
    "The **C Parameter** allows you to decide how much you want to **penalize misclassified points.**\n",
    "\n",
    "Look at **cell 5**'s output. C's default value is **1.0** but we can change that!\n",
    "\n",
    "To fit the SVM model with a **low C** (prioritizes *simplicity*; misclassifications *are allowed*):\n",
    "```python\n",
    "model = svm.SVC(kernel='linear', C=2**-5)\n",
    "model.fit(sugar_butter, type_label)\n",
    "```\n",
    "\n",
    "To fit the SVM model with a **high C** (prioritizes *mistake reduction*; misclassifications *not allowed*):\n",
    "```python\n",
    "model = svm.SVC(kernel='linear', C=2**5)\n",
    "model.fit(sugar_butter, type_label)\n",
    "```\n",
    "\n",
    "Try C values from 2^-5 to 2^5 to see which works best for your model."
   ]
  },
  {
   "cell_type": "markdown",
   "metadata": {},
   "source": [
    "# Multiple Classes\n",
    "\n",
    "You can classify more than 2 classes with SVMs! This would be super useful if we wanted to classify data as **muffins**, **cupcakes**, AAAAND **scones**!\n",
    "\n",
    "Here's our original code from **cell 5**, which has **2 classes** (muffins & cupcakes):\n",
    "```python\n",
    "# Fit the SVM model\n",
    "model = svm.SVC(kernel='linear')\n",
    "model.fit(sugar_butter, type_label)\n",
    "```\n",
    "\n",
    "And here's our **updated** code, which fits the SVM model for **more than 2 classes**:\n",
    "```python\n",
    "# Fit the SVM model for more than 2 classes\n",
    "model = svm.SVC(kernel='linear', decision_function_shape='ovr')\n",
    "model.fit(sugar_butter, type_label)\n",
    "```\n",
    "* What is this **'ovr'** nonsense?\n",
    "\n",
    "**OVR**: One vs. Rest\n",
    "* Steps:\n",
    "    * Classifies Class A against the rest of the data, create that hyperplane\n",
    "    * Then classifies Class B against the rest of the data, create that hyperplane\n",
    "    * Then Class C would be the rest of the data\n",
    "* **Pros:** Fewer classifications (~9)\n",
    "* **Cons:** Classes may be imbalanced\n",
    "\n",
    "**OVO**: One vs. One\n",
    "* Steps:\n",
    "    * Compares all the classes *separately* and creates a hyperplane for each of them\n",
    "    * Then combines all the data\n",
    "* **Pros:** Less sensitive to imbalance\n",
    "* **Cons:** More classifications (~45)"
   ]
  },
  {
   "cell_type": "markdown",
   "metadata": {},
   "source": [
    "# Kernel Trick\n",
    "\n",
    "**Kernel options:**\n",
    "* Linear\n",
    "* Radial Basis Function\n",
    "* Polynomial\n",
    "* Sigmoid"
   ]
  },
  {
   "cell_type": "markdown",
   "metadata": {},
   "source": [
    "### Radial Basis Function\n",
    "\n",
    "Original Code (**linear**)\n",
    "```python\n",
    "# Fit basic SVC model (linear kernel)\n",
    "model = svm.SVC(kernel='linear')\n",
    "model.fit(sugar_butter, type_label)\n",
    "```\n",
    "\n",
    "Updated Code (**RBF**)\n",
    "```python\n",
    "# Fit the SVC model with radial kernel\n",
    "model = svm.SVC(kernel='rbf', C=1, gamma=2**-5)\n",
    "model.fit(sugar_butter, type_label)\n",
    "```\n",
    "* The **C and gamma parameters** are needed for RBF.\n",
    "* **Small** gamma value, like the one used here, means **less complexity** (misclassifications allowed)\n",
    "* **Large** gamma value, like 2^1, means **more complexity** (misclassifications NOT allowed)"
   ]
  },
  {
   "cell_type": "markdown",
   "metadata": {},
   "source": [
    "# Closing\n",
    "\n",
    "**Pros of SVM**\n",
    "* Good at dealing with high dimensional data\n",
    "* Works well on small data sets\n",
    "\n",
    "**Cons of SVM**\n",
    "* Picking the right kernel and parameters can be difficult and computationally intensive\n",
    "\n",
    "**SVM is one of many classification techniques. Some others:**\n",
    "* Logistic Regression\n",
    "* K Nearest Neighbors\n",
    "* Decision Trees\n",
    "* Naive Bayes\n",
    "* Neural Networks"
   ]
  },
  {
   "cell_type": "markdown",
   "metadata": {},
   "source": [
    "*Video source: https://www.youtube.com/watch?v=N1vOgolbjSc*"
   ]
  },
  {
   "cell_type": "code",
   "execution_count": null,
   "metadata": {},
   "outputs": [],
   "source": []
  }
 ],
 "metadata": {
  "kernelspec": {
   "display_name": "Python 3",
   "language": "python",
   "name": "python3"
  },
  "language_info": {
   "codemirror_mode": {
    "name": "ipython",
    "version": 3
   },
   "file_extension": ".py",
   "mimetype": "text/x-python",
   "name": "python",
   "nbconvert_exporter": "python",
   "pygments_lexer": "ipython3",
   "version": "3.7.1"
  }
 },
 "nbformat": 4,
 "nbformat_minor": 2
}
