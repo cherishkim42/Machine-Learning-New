{
 "cells": [
  {
   "cell_type": "markdown",
   "metadata": {},
   "source": [
    "# 🏛 Class 5: Model Evaluation 🏛"
   ]
  },
  {
   "cell_type": "markdown",
   "metadata": {},
   "source": [
    "# 📈 Activity: Write a function!\n",
    "\n",
    "### Given a confusion matrix, compute accuracy, precision, recall, F1 score.\n",
    "**HINTS:**\n",
    "* Accuracy = ((TP + TN) / float(TP + TN + FP + FN))\n",
    "* Precision = TP / float(TP + FP)\n",
    "* Recall = TP / float(FN + TP)\n",
    "* F1-score = 2 x (Precision x Recall)/(Precision + Recall)"
   ]
  },
  {
   "cell_type": "code",
   "execution_count": 4,
   "metadata": {},
   "outputs": [],
   "source": [
    "from scipy import stats\n",
    "from sklearn import metrics\n",
    "import math\n",
    "import pandas as pd\n",
    "import numpy as np\n",
    "import seaborn as sns\n",
    "import matplotlib.pyplot as plt\n",
    "sns.set(rc={'figure.figsize':(11.7,8.27)}) #standardize sizing for seaborn plots"
   ]
  },
  {
   "cell_type": "code",
   "execution_count": 8,
   "metadata": {},
   "outputs": [
    {
     "name": "stdout",
     "output_type": "stream",
     "text": [
      "(0.6927083333333334, 0.5555555555555556, 0.24193548387096775, 0.3370786516853933)\n"
     ]
    }
   ],
   "source": [
    "# confusion = metrics.confusion_matrix(y_test, y_pred)\n",
    "# print(confusion)\n",
    "\n",
    "confusion = np.array([[118., 12.,], [ 47., 15.]])\n",
    "TN = confusion[0, 0]\n",
    "FP = confusion[0, 1]\n",
    "FN = confusion[1, 0]\n",
    "TP = confusion[1, 1]\n",
    "\n",
    "Accuracy = ((TP + TN) / float(TP + TN + FP + FN))\n",
    "Precision = TP / float(TP + FP)\n",
    "Recall = TP / float(FN + TP)\n",
    "F1_score = 2*Precision*Recall/float(Precision+Recall)\n",
    "\n",
    "print((Accuracy, Precision, Recall, F1_score))"
   ]
  },
  {
   "cell_type": "markdown",
   "metadata": {},
   "source": [
    "# To change the threshold of LogReg to get the <span style=\"color:red\">new & improved</span> confusion matrix, do this:\n",
    "1. Train ```logreg = LogisticRegression()``` and get ```y_pred_prob = logreg.predict_proba(X_test)```\n",
    "1. The second column of ```y_pred_prob``` is the probability that a subject be diabetes\n",
    "1. Plot histogram of second column. Hint: ```plt.hist(y_pred_prob[:, 1], bins=8) plt.show()```\n",
    "1. Count how many of ```y_train``` is 0 how many is 1. Define **threshold** as ```y_train.value_counts()[1] / len(y_train)```. **Default value** for **threshold** is **0.5**, but the **optimal threshold can be different**. Using optimal threshold -> superior F1 score\n",
    "1. Write a function that returns 0 if ```y_pred_prob[:, 1]``` is less than **threshold**, else returns 1. These returns are the **predictive labels**\n",
    "1. Calculate the Confusion Matrix by ```confusion = metrics.confusion_matrix(y_test, y_pred)```\n",
    "\n",
    "## <span style=\"color: red\">Lots in Jupyter notebook from 04.11.19. & Milad will push dynamic slides to github</span>"
   ]
  },
  {
   "cell_type": "markdown",
   "metadata": {},
   "source": [
    "# 💯 Cross Validation"
   ]
  },
  {
   "cell_type": "markdown",
   "metadata": {},
   "source": [
    "# PlaceHolder...."
   ]
  },
  {
   "cell_type": "markdown",
   "metadata": {},
   "source": [
    "# 📊 Grid Search for Parameter Selection\n",
    "\n",
    "### Figure out which C and gamma (or other hyperparameters) are best."
   ]
  },
  {
   "cell_type": "code",
   "execution_count": null,
   "metadata": {},
   "outputs": [],
   "source": [
    "from sklearn import svm, grid_search\n",
    "\n",
    "def svc_param_selection(X, y, nfolds):\n",
    "    Cs = [0.001 0.01, 0.1, 1, 10]\n",
    "    gammas = [0.001, 0.01, 0.1, 1]\n",
    "    param_grid = {'C': Cs, 'gamma' : gammas}\n",
    "    grid_search = GridSearchCV(svm.SVC(kernel='rbf'), param_grid, cv=nfolds)\n",
    "    grid_search.fit(X, y)\n",
    "    return grid_search.best_params_"
   ]
  }
 ],
 "metadata": {
  "kernelspec": {
   "display_name": "Python 3",
   "language": "python",
   "name": "python3"
  },
  "language_info": {
   "codemirror_mode": {
    "name": "ipython",
    "version": 3
   },
   "file_extension": ".py",
   "mimetype": "text/x-python",
   "name": "python",
   "nbconvert_exporter": "python",
   "pygments_lexer": "ipython3",
   "version": "3.7.1"
  }
 },
 "nbformat": 4,
 "nbformat_minor": 2
}
